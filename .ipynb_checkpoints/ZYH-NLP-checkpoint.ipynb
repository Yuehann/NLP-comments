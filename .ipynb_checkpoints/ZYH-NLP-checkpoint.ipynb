{
 "cells": [
  {
   "cell_type": "code",
   "execution_count": 1,
   "metadata": {},
   "outputs": [],
   "source": [
    "import pandas as pd\n",
    "import spacy\n",
    "import os.path"
   ]
  },
  {
   "cell_type": "code",
   "execution_count": 3,
   "metadata": {},
   "outputs": [
    {
     "data": {
      "text/plain": [
       "True"
      ]
     },
     "execution_count": 3,
     "metadata": {},
     "output_type": "execute_result"
    }
   ],
   "source": [
    "review_path = 'data/reviewSelected100.json'\n",
    "os.path.exists(review_path)"
   ]
  },
  {
   "cell_type": "code",
   "execution_count": null,
   "metadata": {},
   "outputs": [],
   "source": [
    "# Get the reviews text, stores in array\n",
    "review_df = pd.read_json(review_path, lines=True)\n",
    "print(review_df['text'])\n",
    "arr = review_df['text']\n",
    "\n",
    "nlp = spacy.load('en')\n",
    "\n",
    "# Create a dictionary with Key:Value pair - (Noun, Adjective):count\n",
    "countdict={}\n",
    "\n",
    "# k loop traverse the array of reviews\n",
    "for k in range(0, 20):\n",
    "    doc = nlp(arr[k])\n",
    "\n",
    "    # i loop traverse to find all the Noun, Adjective pairs\n",
    "    for i, token in enumerate(doc):\n",
    "        if token.pos_ not in ('NOUN', 'PROPN'):\n",
    "            continue\n",
    "\n",
    "        # j loop to update the dictionary, by adding unseen pairs and increment count of seen pairs\n",
    "        for j in range(i + 1, len(doc)):\n",
    "            if doc[j].pos_ == 'ADJ':\n",
    "                if (token, doc[j]) in countdict:\n",
    "                    countdict[(token, doc[j])] = countdict.get((token, doc[j]))+1\n",
    "                else:\n",
    "                    countdict[(token, doc[j])] = 1\n",
    "                break\n",
    "\n",
    "#print(countdict)\n",
    "# print the (Noun, Adjective) with its count in a sorted order\n",
    "for key, value in sorted(countdict.items()):\n",
    "    print(key, value)\n"
   ]
  },
  {
   "cell_type": "code",
   "execution_count": null,
   "metadata": {},
   "outputs": [],
   "source": []
  }
 ],
 "metadata": {
  "kernelspec": {
   "display_name": "Python 3",
   "language": "python",
   "name": "python3"
  },
  "language_info": {
   "codemirror_mode": {
    "name": "ipython",
    "version": 3
   },
   "file_extension": ".py",
   "mimetype": "text/x-python",
   "name": "python",
   "nbconvert_exporter": "python",
   "pygments_lexer": "ipython3",
   "version": "3.7.3"
  }
 },
 "nbformat": 4,
 "nbformat_minor": 2
}
